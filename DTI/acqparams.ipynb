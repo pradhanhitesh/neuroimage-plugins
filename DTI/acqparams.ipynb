{
 "cells": [
  {
   "cell_type": "markdown",
   "metadata": {},
   "source": [
    "## Extracting acqparams from .json\n",
    "Each MRI sequence comes up with .json file which saves the acquistion parameters of the sequence. A .json file is created when DICOM files are converted into NIFTI format using standard tools such as dcm2niix (https://github.com/rordenlab/dcm2niix). In this tutorial, we will use the generated .json file to read the acquistion parameter properties and create acqparams.txt file. "
   ]
  },
  {
   "cell_type": "code",
   "execution_count": 4,
   "metadata": {},
   "outputs": [],
   "source": [
    "# Import the package\n",
    "import json\n",
    " \n",
    "# Opening JSON file\n",
    "f = open(\"example.json\")\n",
    " \n",
    "# Store the data in dict()\n",
    "data = json.load(f)"
   ]
  },
  {
   "cell_type": "code",
   "execution_count": 5,
   "metadata": {},
   "outputs": [
    {
     "data": {
      "text/plain": [
       "{'ConversionSoftware': 'dicm2nii.m 20230223',\n",
       " 'SeriesNumber': 12,\n",
       " 'SeriesDescription': 'ep2d_diff_mddw_20_p2(DTI)',\n",
       " 'ImageType': ['ORIGINAL',\n",
       "  'PRIMARY',\n",
       "  'DIFFUSION',\n",
       "  'NONE',\n",
       "  'ND',\n",
       "  'NORM',\n",
       "  'MOSAIC'],\n",
       " 'Modality': 'MR',\n",
       " 'AcquisitionDateTime': '20220406130157.402500',\n",
       " 'DiffusionBValue': [0,\n",
       "  1000,\n",
       "  1000,\n",
       "  1000,\n",
       "  1000,\n",
       "  1000,\n",
       "  1000,\n",
       "  1000,\n",
       "  1000,\n",
       "  1000,\n",
       "  1000,\n",
       "  1000,\n",
       "  1000,\n",
       "  1000,\n",
       "  1000,\n",
       "  1000,\n",
       "  1000,\n",
       "  1000,\n",
       "  1000,\n",
       "  1000,\n",
       "  1000,\n",
       "  0,\n",
       "  1000,\n",
       "  1000,\n",
       "  1000,\n",
       "  1000,\n",
       "  1000,\n",
       "  1000,\n",
       "  1000,\n",
       "  1000,\n",
       "  1000,\n",
       "  1000,\n",
       "  1000,\n",
       "  1000,\n",
       "  1000,\n",
       "  1000,\n",
       "  1000,\n",
       "  1000,\n",
       "  1000,\n",
       "  1000,\n",
       "  1000,\n",
       "  1000],\n",
       " 'DiffusionGradientOrientation': [[0, 0, 0],\n",
       "  [0.99990037, 0.011407174, -0.008314119],\n",
       "  [-0.011860936, 0.89666857, -0.44254354],\n",
       "  [-0.046185613, 0.4500614, -0.89180244],\n",
       "  [0.85036618, 0.5175823, -0.094794184],\n",
       "  [0.82817151, 0.081813317, -0.55447143],\n",
       "  [0.83303419, -0.48032377, -0.27448712],\n",
       "  [0.86363291, -0.37427026, 0.33772751],\n",
       "  [0.82818093, 0.26624212, 0.49318514],\n",
       "  [0.55177418, 0.7104641, 0.43679053],\n",
       "  [0.45882708, 0.88111755, -0.11449692],\n",
       "  [0.50356282, 0.60434025, -0.61741191],\n",
       "  [0.37875205, 0.12621196, -0.91685171],\n",
       "  [0.4703105, -0.39677586, -0.78827454],\n",
       "  [0.38973476, -0.80408291, -0.44895155],\n",
       "  [0.52092323, -0.84798372, 0.097788271],\n",
       "  [0.48050589, -0.61701938, 0.62321829],\n",
       "  [0.56403991, -0.05895449, 0.82364017],\n",
       "  [0.12252591, 0.19983553, 0.97213839],\n",
       "  [0.11630608, 0.67144452, 0.73187099],\n",
       "  [0.028049853, 0.98489253, 0.17088021],\n",
       "  [0, 0, 0],\n",
       "  [0.99990037, 0.011407174, -0.008314119],\n",
       "  [-0.011860936, 0.89666857, -0.44254354],\n",
       "  [-0.046185613, 0.4500614, -0.89180244],\n",
       "  [0.85036618, 0.5175823, -0.094794184],\n",
       "  [0.82817151, 0.081813317, -0.55447143],\n",
       "  [0.83303419, -0.48032377, -0.27448712],\n",
       "  [0.86363291, -0.37427026, 0.33772751],\n",
       "  [0.82818093, 0.26624212, 0.49318514],\n",
       "  [0.55177418, 0.7104641, 0.43679053],\n",
       "  [0.45882708, 0.88111755, -0.11449692],\n",
       "  [0.50356282, 0.60434025, -0.61741191],\n",
       "  [0.37875205, 0.12621196, -0.91685171],\n",
       "  [0.4703105, -0.39677586, -0.78827454],\n",
       "  [0.38973476, -0.80408291, -0.44895155],\n",
       "  [0.52092323, -0.84798372, 0.097788271],\n",
       "  [0.48050589, -0.61701938, 0.62321829],\n",
       "  [0.56403991, -0.05895449, 0.82364017],\n",
       "  [0.12252591, 0.19983553, 0.97213839],\n",
       "  [0.11630608, 0.67144452, 0.73187099],\n",
       "  [0.028049853, 0.98489253, 0.17088021]],\n",
       " 'TotalReadoutTime': 0.04911333,\n",
       " 'RepetitionTime': 3.8,\n",
       " 'ParallelReductionFactorInPlane': 2,\n",
       " 'ParallelAcquisitionTechnique': 'GRAPPA',\n",
       " 'ImageTypeText': 'p2 DIFFUSION/NONE/ND/NORM',\n",
       " 'PhaseEncodingDirection': 'j-',\n",
       " 'EffectiveEchoSpacing': 0.00038671914,\n",
       " 'EchoTime': 0.095,\n",
       " 'PatientName': 'ARK055_V1',\n",
       " 'PatientSex': 'M',\n",
       " 'PatientAge': '056Y',\n",
       " 'PatientSize': 1.7,\n",
       " 'PatientWeight': 88,\n",
       " 'PatientPosition': 'HFS',\n",
       " 'SliceThickness': 4,\n",
       " 'FlipAngle': 90,\n",
       " 'Manufacturer': 'SIEMENS',\n",
       " 'SoftwareVersion': 'syngo MR E11',\n",
       " 'MRAcquisitionType': '2D',\n",
       " 'InstitutionName': 'XXX',\n",
       " 'InstitutionAddress': 'XXX',\n",
       " 'DeviceSerialNumber': 'XXX',\n",
       " 'ScanningSequence': 'EP',\n",
       " 'SequenceVariant': 'SK\\\\SP\\\\OSP',\n",
       " 'ScanOptions': 'PFP\\\\FS',\n",
       " 'SequenceName': '*ep_b0',\n",
       " 'MagneticFieldStrength': 3,\n",
       " 'SAR': 0.22940721,\n",
       " 'ImageOrientationText': 'Tra>Cor(-26.7)>Sag(0.8)',\n",
       " 'PercentSampling': 100,\n",
       " 'PixelBandwidth': 1565}"
      ]
     },
     "execution_count": 5,
     "metadata": {},
     "output_type": "execute_result"
    }
   ],
   "source": [
    "# Show the data\n",
    "data"
   ]
  },
  {
   "cell_type": "markdown",
   "metadata": {},
   "source": [
    "Now, we are particularly interested in two things:\n",
    "1. Phase Encoding Direction\n",
    "2. Total Readout Time\n",
    "\n",
    "In the data, you can easily find them as \"PhaseEncodingDirection\" and \"TotalReadoutTime\"."
   ]
  },
  {
   "cell_type": "code",
   "execution_count": 10,
   "metadata": {},
   "outputs": [
    {
     "data": {
      "text/plain": [
       "('j-', 0.04911333)"
      ]
     },
     "execution_count": 10,
     "metadata": {},
     "output_type": "execute_result"
    }
   ],
   "source": [
    "# Preview the variables from the data dict\n",
    "data['PhaseEncodingDirection'], data['TotalReadoutTime']"
   ]
  },
  {
   "cell_type": "markdown",
   "metadata": {},
   "source": [
    "Now, what is \"j-\"? You can read more about Phase Encoding Direction at https://mrtrix.readthedocs.io/en/dev/concepts/pe_scheme.html Therefore, we will only be focusing on using the j- information to write the direction of data is encoded. \n",
    "\n",
    "From the website:\n",
    "This information is stored as a table, where each row contains the phase encoding direction and the readout time for the corresponding volume; the number of rows in this table must therefore be equal to the number of volumes in the image. In each row, the first three numbers encode the phase encoding direction, and the fourth number is the total readout time. The direction is specified as a unit direction in the image coordinate system; for instance, a phase encoding direction of A>>P would be encoded as [ 0 -1 0 ].\n",
    "\n",
    "Therefore, we will store the variables **0 -1 0 0.04911333** in the acqparams.txt file."
   ]
  }
 ],
 "metadata": {
  "kernelspec": {
   "display_name": "env",
   "language": "python",
   "name": "python3"
  },
  "language_info": {
   "codemirror_mode": {
    "name": "ipython",
    "version": 3
   },
   "file_extension": ".py",
   "mimetype": "text/x-python",
   "name": "python",
   "nbconvert_exporter": "python",
   "pygments_lexer": "ipython3",
   "version": "3.10.4"
  }
 },
 "nbformat": 4,
 "nbformat_minor": 2
}
